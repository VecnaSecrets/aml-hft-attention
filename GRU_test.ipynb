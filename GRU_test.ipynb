{
 "cells": [
  {
   "cell_type": "code",
   "execution_count": 51,
   "metadata": {
    "collapsed": true
   },
   "outputs": [],
   "source": [
    "import torch as t\n",
    "import pandas as pd\n",
    "import numpy as np\n",
    "from tqdm import tqdm\n",
    "\n",
    "from torch.nn import GRU\n",
    "\n",
    "import warnings\n",
    "warnings.simplefilter('ignore')\n",
    "\n",
    "DEVICE = 'cuda' if t.cuda.is_available() else 'cpu'\n",
    "DATASET_PATH = './dataset/result.csv'\n"
   ]
  },
  {
   "cell_type": "code",
   "execution_count": 28,
   "metadata": {},
   "outputs": [
    {
     "data": {
      "text/plain": "(4382993, 79)"
     },
     "execution_count": 28,
     "metadata": {},
     "output_type": "execute_result"
    }
   ],
   "source": [
    "dataset = pd.read_csv(DATASET_PATH, index_col=0)\n",
    "dataset.shape"
   ]
  },
  {
   "cell_type": "code",
   "execution_count": 88,
   "outputs": [
    {
     "name": "stdout",
     "output_type": "stream",
     "text": [
      "stage 1\n"
     ]
    },
    {
     "name": "stderr",
     "output_type": "stream",
     "text": [
      "100%|██████████| 4382493/4382493 [02:56<00:00, 24799.48it/s]"
     ]
    },
    {
     "name": "stdout",
     "output_type": "stream",
     "text": [
      "stage 2\n"
     ]
    },
    {
     "name": "stderr",
     "output_type": "stream",
     "text": [
      "\n"
     ]
    }
   ],
   "source": [
    "LOOK_FWD = 500\n",
    "ds = dataset[:-LOOK_FWD]\n",
    "ds['mid_price'] = ds[['p_ask_1', 'p_bid_1']].mean(axis=1)\n",
    "mid_prices = dataset[['p_ask_1', 'p_bid_1']].mean(axis=1)\n",
    "print('stage 1')\n",
    "mid_prices_cum = np.zeros(ds.shape[0])\n",
    "for i in tqdm(range(mid_prices_cum.shape[0])):\n",
    "    mid_prices_cum[i] = mid_prices[i:i+LOOK_FWD].sum()\n",
    "\n",
    "print('stage 2')\n",
    "mid_prices_cum /= LOOK_FWD\n",
    "mid_prices_cum = np.stack([mid_prices_cum, mid_prices[:-LOOK_FWD]], axis=1)\n",
    "\n",
    "# ds['mid_5_fwd'] = dataset[['p_ask_1', 'p_bid_1']].mean(axis=1)[LOOK_FWD:].to_numpy()\n",
    "# labels = ds['mid_price'] - ds['mid_5_fwd']\n",
    "# thr = ds['mid_price'].mean() / 1e20\n",
    "# # thr = 0\n",
    "# labels = labels.apply(lambda x: 2 if np.abs(x) <= thr else int(x < 0))\n",
    "# labels"
   ],
   "metadata": {
    "collapsed": false
   }
  },
  {
   "cell_type": "code",
   "execution_count": 93,
   "outputs": [
    {
     "name": "stdout",
     "output_type": "stream",
     "text": [
      "CPU times: user 3.67 s, sys: 0 ns, total: 3.67 s\n",
      "Wall time: 3.67 s\n"
     ]
    },
    {
     "data": {
      "text/plain": "array([2, 2, 2, ..., 2, 2, 2])"
     },
     "execution_count": 93,
     "metadata": {},
     "output_type": "execute_result"
    }
   ],
   "source": [
    "%%time\n",
    "THR = 0.000001\n",
    "def categorize(x):\n",
    "    m = x[0] / x[1]\n",
    "    if m > 1 + THR:\n",
    "        return 1\n",
    "    if m < 1 - THR:\n",
    "        return 0\n",
    "    return 2\n",
    "labels = np.apply_along_axis(categorize, 1, mid_prices_cum)\n",
    "labels"
   ],
   "metadata": {
    "collapsed": false
   }
  },
  {
   "cell_type": "code",
   "execution_count": 94,
   "outputs": [
    {
     "data": {
      "text/plain": "<Figure size 640x480 with 1 Axes>",
      "image/png": "[encoded data removed]"
     },
     "metadata": {},
     "output_type": "display_data"
    }
   ],
   "source": [
    "import matplotlib.pyplot as plt\n",
    "plt.hist(labels)\n",
    "plt.show()"
   ],
   "metadata": {
    "collapsed": false
   }
  },
  {
   "cell_type": "code",
   "execution_count": 60,
   "outputs": [],
   "source": [
    "class Pipe:\n",
    "    def __init__(self, window_size=20, window_step=1):\n",
    "        self.mean = None\n",
    "        self.w_size=window_size\n",
    "        self.w_step=window_step\n",
    "        self.columns = None\n",
    "\n",
    "    def fit(self, x:pd.DataFrame):\n",
    "        self.max = t.tensor(x.max(axis=0).to_numpy())\n",
    "        self.columns = x.columns + ['mid_price']\n",
    "\n",
    "    def transform(self, x:pd.DataFrame) -> t.tensor:\n",
    "        x_t = t.tensor(x.to_numpy())\n",
    "        x_t /= self.max\n",
    "        x_t = t.concat([x_t,\n",
    "                        x_t[:, [0,2]]\n",
    "                       .mean(axis=1)\n",
    "                       .unsqueeze(0).T]\n",
    "                    , axis=1)\n",
    "        x_t = x_t.unfold(0, self.w_size, self.w_step)\n",
    "\n",
    "        return x_t\n",
    "\n",
    "    def fit_transform(self, x):\n",
    "        self.fit(x)\n",
    "        return self.transform(x)\n"
   ],
   "metadata": {
    "collapsed": false
   }
  },
  {
   "cell_type": "code",
   "execution_count": 61,
   "outputs": [
    {
     "data": {
      "text/plain": "torch.Size([4382974, 80, 20])"
     },
     "execution_count": 61,
     "metadata": {},
     "output_type": "execute_result"
    }
   ],
   "source": [
    "pipe = Pipe()\n",
    "pipe.fit_transform(dataset).shape"
   ],
   "metadata": {
    "collapsed": false
   }
  },
  {
   "cell_type": "code",
   "execution_count": 4,
   "outputs": [
    {
     "name": "stdout",
     "output_type": "stream",
     "text": [
      "torch.Size([10, 5])\n"
     ]
    },
    {
     "data": {
      "text/plain": "torch.Size([8, 5, 3])"
     },
     "execution_count": 4,
     "metadata": {},
     "output_type": "execute_result"
    }
   ],
   "source": [
    "test = t.tensor(np.random.randn(10,5))\n",
    "print(test.shape)\n",
    "test = test.unfold(0,3,1)\n",
    "test.shape"
   ],
   "metadata": {
    "collapsed": false
   }
  },
  {
   "cell_type": "code",
   "execution_count": 21,
   "outputs": [
    {
     "data": {
      "text/plain": "torch.Size([4382974, 20, 79])"
     },
     "execution_count": 21,
     "metadata": {},
     "output_type": "execute_result"
    }
   ],
   "source": [
    "slide_size = 20\n",
    "\n",
    "ds_tensor = t.tensor(dataset.to_numpy())\n",
    "ds_tensor = ds_tensor.unfold(0, 20, 1)\n",
    "ds_tensor = ds_tensor.permute(0,2,1)\n",
    "ds_tensor.shape"
   ],
   "metadata": {
    "collapsed": false
   }
  },
  {
   "cell_type": "code",
   "execution_count": 27,
   "metadata": {},
   "outputs": [
    {
     "data": {
      "text/plain": [
       "torch.Size([3, 10, 6])"
      ]
     },
     "execution_count": 27,
     "metadata": {},
     "output_type": "execute_result"
    }
   ],
   "source": [
    "# params\n",
    "items = 3\n",
    "sequence_len = 10\n",
    "features = 20\n",
    "K = 6\n",
    "n_layers = 2\n",
    "\n",
    "# test tensor\n",
    "test = t.randn((items, sequence_len, features))\n",
    "\n",
    "# init of first hidden state\n",
    "h_0 = t.randn((n_layers, sequence_len, K))\n",
    "gru = GRU(\n",
    "    input_size = features,\n",
    "    hidden_size = K,\n",
    "    num_layers = n_layers,\n",
    "    bidirectional=False\n",
    ")\n",
    "\n",
    "gru(test, h_0)[0].shape"
   ]
  }
 ],
 "metadata": {
  "kernelspec": {
   "display_name": "Python 3 (ipykernel)",
   "language": "python",
   "name": "python3"
  },
  "language_info": {
   "codemirror_mode": {
    "name": "ipython",
    "version": 3
   },
   "file_extension": ".py",
   "mimetype": "text/x-python",
   "name": "python",
   "nbconvert_exporter": "python",
   "pygments_lexer": "ipython3",
   "version": "3.10.10"
  }
 },
 "nbformat": 4,
 "nbformat_minor": 1
}
