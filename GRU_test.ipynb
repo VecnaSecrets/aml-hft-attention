{
 "cells": [
  {
   "cell_type": "code",
   "execution_count": 1,
   "metadata": {},
   "outputs": [],
   "source": [
    "import torch as t\n",
    "import pandas as pd\n",
    "import numpy as np\n",
    "from tqdm import tqdm\n",
    "\n",
    "from torch.nn import GRU\n",
    "from src.preprocess import *\n",
    "\n",
    "import warnings\n",
    "warnings.simplefilter('ignore')\n"
   ]
  },
  {
   "cell_type": "code",
   "execution_count": null,
   "metadata": {},
   "outputs": [],
   "source": [
    "# setting up\n",
    "DEVICE = 'cuda' if t.cuda.is_available() else 'cpu'\n",
    "DEVICE = 'mbp' if t.backends.mps.is_available() else DEVICE\n",
    "DATASET_PATH = './dataset/result.csv'\n",
    "LOOK_FWD = 700\n",
    "W_SIZE = 500\n",
    "THR = 0.000001\n",
    "TRAIN_TEST_R = 0.8\n",
    "TRAIN_VAL_R = 0.8"
   ]
  },
  {
   "cell_type": "code",
   "execution_count": 2,
   "metadata": {},
   "outputs": [
    {
     "name": "stdout",
     "output_type": "stream",
     "text": [
      "Dataset already extracted\n"
     ]
    },
    {
     "data": {
      "text/plain": [
       "(4382993, 79)"
      ]
     },
     "execution_count": 2,
     "metadata": {},
     "output_type": "execute_result"
    }
   ],
   "source": [
    "unzip_dataset('./dataset/')\n",
    "dataset = pd.read_csv(DATASET_PATH, index_col=0)\n",
    "dataset.shape"
   ]
  },
  {
   "cell_type": "code",
   "execution_count": 3,
   "metadata": {},
   "outputs": [
    {
     "name": "stderr",
     "output_type": "stream",
     "text": [
      "100%|██████████████████████████████| 4382293/4382293 [02:14<00:00, 32587.84it/s]\n"
     ]
    }
   ],
   "source": [
    "labels = generate_labels(dataset, LOOK_FWD, THR)[LOOK_FWD:]"
   ]
  },
  {
   "cell_type": "code",
   "execution_count": 4,
   "metadata": {},
   "outputs": [
    {
     "data": {
      "image/png": "[encoded data removed]",
      "text/plain": [
       "<Figure size 640x480 with 1 Axes>"
      ]
     },
     "metadata": {},
     "output_type": "display_data"
    }
   ],
   "source": [
    "import matplotlib.pyplot as plt\n",
    "plt.hist(labels)\n",
    "plt.show()"
   ]
  },
  {
   "cell_type": "code",
   "execution_count": 5,
   "metadata": {},
   "outputs": [
    {
     "data": {
      "text/plain": [
       "(4381593,)"
      ]
     },
     "execution_count": 5,
     "metadata": {},
     "output_type": "execute_result"
    }
   ],
   "source": [
    "labels.shape"
   ]
  },
  {
   "cell_type": "code",
   "execution_count": 6,
   "metadata": {},
   "outputs": [],
   "source": [
    "pipe = Pipe(W_SIZE)\n",
    "\n",
    "train_index = int((dataset.shape[0] - LOOK_FWD * 2 - W_SIZE) * TRAIN_TEST_R)\n",
    "test_index_start = train_index + W_SIZE\n",
    "ds_train = dataset[:train_index]\n",
    "ds_test = dataset[test_index_start: - LOOK_FWD * 2]\n",
    "\n",
    "pipe.fit(ds_train)\n",
    "\n",
    "train_t = pipe.transform(ds_train)\n",
    "test_t = pipe.transform(ds_test)\n",
    "\n",
    "train_l_t = t.tensor(labels[:train_t.shape[0]])\n",
    "test_l_t = t.tensor(labels[test_index_start:test_index_start + test_t.shape[0]])\n",
    "\n",
    "train_val_idx = int(train_l_t.shape[0] * TRAIN_VAL_R)\n",
    "\n",
    "train_ds = t.utils.data.TensorDataset(train_t[:train_val_idx], train_l_t[:train_val_idx])\n",
    "val_ds = t.utils.data.TensorDataset(train_t[train_val_idx:], train_l_t[train_val_idx:])\n",
    "test_ds = t.utils.data.TensorDataset(test_t, test_l_t)\n",
    "\n",
    "train_dl = t.utils.data.DataLoader(train_ds, batch_size=512)\n",
    "val_dl = t.utils.data.DataLoader(val_ds, batch_size=512)\n",
    "test_dl = t.utils.data.DataLoader(test_ds, batch_size=512)"
   ]
  },
  {
   "cell_type": "code",
   "execution_count": 7,
   "metadata": {},
   "outputs": [],
   "source": [
    "class Att_GRU(t.nn.Module):\n",
    "    def __init__(self, f_dim, n_layers, hidden, window, device='cpu'):\n",
    "        super().__init__()\n",
    "\n",
    "        self.f_dim = f_dim\n",
    "        self.hidden = hidden\n",
    "\n",
    "        self.att_1 = t.nn.Parameter(t.rand((1, f_dim, f_dim), dtype=t.float32, requires_grad=True)).to(device=device)\n",
    "\n",
    "        self.att_2 = t.nn.Parameter(t.randn((1, hidden, hidden), dtype=t.float32, requires_grad=True)).to(device=device)\n",
    "        self.sm = t.nn.Softmax(dim=1)\n",
    "\n",
    "        self.gru = GRU(\n",
    "            input_size = f_dim,\n",
    "            hidden_size = hidden,\n",
    "            num_layers = n_layers,\n",
    "            bidirectional=False\n",
    "        )\n",
    "\n",
    "        self.w = t.nn.Linear(hidden * window, 3)\n",
    "\n",
    "    def forward(self, x):\n",
    "        # first attention stage\n",
    "        pr = self.att_1.repeat(x.shape[0],1,1)\n",
    "        pr = t.bmm(x, pr)\n",
    "        pr = (self.sm(pr).sum(2) / self.f_dim)\\\n",
    "            .unsqueeze(1)\\\n",
    "            .repeat(1, self.f_dim, 1)\\\n",
    "            .permute(0,2,1)\n",
    "        x = pr * x\n",
    "\n",
    "        # gru\n",
    "        x, _ = self.gru(x)\n",
    "\n",
    "        # second attention stage\n",
    "        pr = self.att_2.repeat(x.shape[0],1,1)\n",
    "        pr = t.bmm(x, pr)\n",
    "        pr = (self.sm(pr).sum(2) / self.hidden)\\\n",
    "            .unsqueeze(1)\\\n",
    "            .repeat(1, self.hidden, 1)\\\n",
    "            .permute(0,2,1)\n",
    "        \n",
    "        x = (pr * x).flatten(1)\n",
    "        x = self.w(x)\n",
    "        x = self.sm(x)\n",
    "\n",
    "        return x\n",
    "\n"
   ]
  },
  {
   "cell_type": "code",
   "execution_count": 8,
   "metadata": {},
   "outputs": [
    {
     "data": {
      "text/plain": [
       "torch.Size([5, 3])"
      ]
     },
     "execution_count": 8,
     "metadata": {},
     "output_type": "execute_result"
    }
   ],
   "source": [
    "model = Att_GRU(train_t.shape[2], 5, 20, W_SIZE)\n",
    "model(train_t[500:505]).shape"
   ]
  },
  {
   "cell_type": "code",
   "execution_count": 9,
   "metadata": {},
   "outputs": [],
   "source": [
    "def train(train_loader, val_loader, model, optimizer, lf, epochs=10, device='cpu'):\n",
    "    bar = tqdm(range(epochs))\n",
    "    epoch_loss = -1.0\n",
    "    eval_loss = -1.0\n",
    "    for epoch in bar:\n",
    "        l = 0\n",
    "\n",
    "        batch_count = 0\n",
    "        for X, y in train_loader:\n",
    "            batch_count += 1\n",
    "            \n",
    "            optimizer.zero_grad()\n",
    "            X = X.to(device=device)\n",
    "            out = model(X).to(device='cpu')\n",
    "            loss = lf(out, y)\n",
    "            loss.backward()\n",
    "            l += loss\n",
    "            optimizer.step()\n",
    "\n",
    "            bar.set_description(\"train_loss: {:.3f}, eval_loss: {:.3f}, local_loss: {:.3f}\"\\\n",
    "                                .format(epoch_loss, eval_loss, loss))\n",
    "\n",
    "        epoch_loss = l / batch_count\n",
    "        eval_loss = eval(val_loader, model, lf, device)\n",
    "\n",
    "def eval(val_loader, model, lf, device='cpu'):\n",
    "    with t.no_grad():\n",
    "        loss = 0\n",
    "        batch_counter = 0\n",
    "        for X, y in bar:\n",
    "            batch_counter += 1\n",
    "            l = 0\n",
    "            out = model(X.to(device=device))\n",
    "            loss += lf(out, y)\n",
    "    return loss / batch_counter\n"
   ]
  },
  {
   "cell_type": "code",
   "execution_count": 10,
   "metadata": {},
   "outputs": [
    {
     "ename": "RuntimeError",
     "evalue": "Expected one of cpu, cuda, ipu, xpu, mkldnn, opengl, opencl, ideep, hip, ve, fpga, ort, xla, lazy, vulkan, mps, meta, hpu, privateuseone device type at start of device string: mbp",
     "output_type": "error",
     "traceback": [
      "\u001b[0;31m---------------------------------------------------------------------------\u001b[0m",
      "\u001b[0;31mRuntimeError\u001b[0m                              Traceback (most recent call last)",
      "File \u001b[0;32m<timed exec>:1\u001b[0m\n",
      "Cell \u001b[0;32mIn[7], line 8\u001b[0m, in \u001b[0;36mAtt_GRU.__init__\u001b[0;34m(self, f_dim, n_layers, hidden, window, device)\u001b[0m\n\u001b[1;32m      5\u001b[0m \u001b[38;5;28mself\u001b[39m\u001b[38;5;241m.\u001b[39mf_dim \u001b[38;5;241m=\u001b[39m f_dim\n\u001b[1;32m      6\u001b[0m \u001b[38;5;28mself\u001b[39m\u001b[38;5;241m.\u001b[39mhidden \u001b[38;5;241m=\u001b[39m hidden\n\u001b[0;32m----> 8\u001b[0m \u001b[38;5;28mself\u001b[39m\u001b[38;5;241m.\u001b[39matt_1 \u001b[38;5;241m=\u001b[39m \u001b[43mt\u001b[49m\u001b[38;5;241;43m.\u001b[39;49m\u001b[43mnn\u001b[49m\u001b[38;5;241;43m.\u001b[39;49m\u001b[43mParameter\u001b[49m\u001b[43m(\u001b[49m\u001b[43mt\u001b[49m\u001b[38;5;241;43m.\u001b[39;49m\u001b[43mrand\u001b[49m\u001b[43m(\u001b[49m\u001b[43m(\u001b[49m\u001b[38;5;241;43m1\u001b[39;49m\u001b[43m,\u001b[49m\u001b[43m \u001b[49m\u001b[43mf_dim\u001b[49m\u001b[43m,\u001b[49m\u001b[43m \u001b[49m\u001b[43mf_dim\u001b[49m\u001b[43m)\u001b[49m\u001b[43m,\u001b[49m\u001b[43m \u001b[49m\u001b[43mdtype\u001b[49m\u001b[38;5;241;43m=\u001b[39;49m\u001b[43mt\u001b[49m\u001b[38;5;241;43m.\u001b[39;49m\u001b[43mfloat32\u001b[49m\u001b[43m,\u001b[49m\u001b[43m \u001b[49m\u001b[43mrequires_grad\u001b[49m\u001b[38;5;241;43m=\u001b[39;49m\u001b[38;5;28;43;01mTrue\u001b[39;49;00m\u001b[43m)\u001b[49m\u001b[43m)\u001b[49m\u001b[38;5;241;43m.\u001b[39;49m\u001b[43mto\u001b[49m\u001b[43m(\u001b[49m\u001b[43mdevice\u001b[49m\u001b[38;5;241;43m=\u001b[39;49m\u001b[43mdevice\u001b[49m\u001b[43m)\u001b[49m\n\u001b[1;32m     10\u001b[0m \u001b[38;5;28mself\u001b[39m\u001b[38;5;241m.\u001b[39matt_2 \u001b[38;5;241m=\u001b[39m t\u001b[38;5;241m.\u001b[39mnn\u001b[38;5;241m.\u001b[39mParameter(t\u001b[38;5;241m.\u001b[39mrandn((\u001b[38;5;241m1\u001b[39m, hidden, hidden), dtype\u001b[38;5;241m=\u001b[39mt\u001b[38;5;241m.\u001b[39mfloat32, requires_grad\u001b[38;5;241m=\u001b[39m\u001b[38;5;28;01mTrue\u001b[39;00m))\u001b[38;5;241m.\u001b[39mto(device\u001b[38;5;241m=\u001b[39mdevice)\n\u001b[1;32m     11\u001b[0m \u001b[38;5;28mself\u001b[39m\u001b[38;5;241m.\u001b[39msm \u001b[38;5;241m=\u001b[39m t\u001b[38;5;241m.\u001b[39mnn\u001b[38;5;241m.\u001b[39mSoftmax(dim\u001b[38;5;241m=\u001b[39m\u001b[38;5;241m1\u001b[39m)\n",
      "\u001b[0;31mRuntimeError\u001b[0m: Expected one of cpu, cuda, ipu, xpu, mkldnn, opengl, opencl, ideep, hip, ve, fpga, ort, xla, lazy, vulkan, mps, meta, hpu, privateuseone device type at start of device string: mbp"
     ]
    }
   ],
   "source": [
    "%%time\n",
    "model_1 = Att_GRU(test_t.shape[2],\n",
    "                  n_layers=5,\n",
    "                  hidden=100,\n",
    "                  device=DEVICE,\n",
    "                  window=W_SIZE)\n",
    "optimizer = t.optim.Adam(model.parameters())\n",
    "lf = t.nn.CrossEntropyLoss()\n",
    "\n",
    "train(train_dl, val_dl, model, optimizer, lf, 3)"
   ]
  },
  {
   "cell_type": "code",
   "execution_count": 11,
   "metadata": {},
   "outputs": [
    {
     "data": {
      "text/plain": [
       "torch.Size([3, 10, 6])"
      ]
     },
     "execution_count": 11,
     "metadata": {},
     "output_type": "execute_result"
    }
   ],
   "source": [
    "# params\n",
    "items = 3\n",
    "sequence_len = 10\n",
    "features = 20\n",
    "K = 6\n",
    "n_layers = 2\n",
    "\n",
    "# test tensor\n",
    "test = t.randn((items, sequence_len, features))\n",
    "\n",
    "# init of first hidden state\n",
    "h_0 = t.randn((n_layers, sequence_len, K))\n",
    "gru = GRU(\n",
    "    input_size = features,\n",
    "    hidden_size = K,\n",
    "    num_layers = n_layers,\n",
    "    bidirectional=False\n",
    ")\n",
    "\n",
    "gru(test, h_0)[0].shape"
   ]
  }
 ],
 "metadata": {
  "kernelspec": {
   "display_name": "Python 3 (ipykernel)",
   "language": "python",
   "name": "python3"
  },
  "language_info": {
   "codemirror_mode": {
    "name": "ipython",
    "version": 3
   },
   "file_extension": ".py",
   "mimetype": "text/x-python",
   "name": "python",
   "nbconvert_exporter": "python",
   "pygments_lexer": "ipython3",
   "version": "3.9.16"
  }
 },
 "nbformat": 4,
 "nbformat_minor": 1
}
