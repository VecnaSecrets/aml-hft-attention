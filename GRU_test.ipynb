{
 "cells": [
  {
   "cell_type": "code",
   "execution_count": 4,
   "metadata": {
    "collapsed": true
   },
   "outputs": [],
   "source": [
    "import torch as t\n",
    "import pandas as pd\n",
    "\n",
    "from torch.nn import GRU\n",
    "\n",
    "DEVICE = 'cuda' if t.cuda.is_available() else 'cpu'"
   ]
  },
  {
   "cell_type": "code",
   "execution_count": 27,
   "outputs": [
    {
     "data": {
      "text/plain": "torch.Size([3, 10, 6])"
     },
     "execution_count": 27,
     "metadata": {},
     "output_type": "execute_result"
    }
   ],
   "source": [
    "# params\n",
    "items = 3\n",
    "sequence_len = 10\n",
    "features = 20\n",
    "K = 6\n",
    "n_layers = 2\n",
    "\n",
    "# test tensor\n",
    "test = t.randn((items, sequence_len, features))\n",
    "\n",
    "# init of first hidden state\n",
    "h_0 = t.randn((n_layers, sequence_len, K))\n",
    "gru = GRU(\n",
    "    input_size = features,\n",
    "    hidden_size = K,\n",
    "    num_layers = n_layers,\n",
    "    bidirectional=False\n",
    ")\n",
    "\n",
    "gru(test, h_0)[0].shape"
   ],
   "metadata": {
    "collapsed": false
   }
  }
 ],
 "metadata": {
  "kernelspec": {
   "display_name": "Python 3",
   "language": "python",
   "name": "python3"
  },
  "language_info": {
   "codemirror_mode": {
    "name": "ipython",
    "version": 2
   },
   "file_extension": ".py",
   "mimetype": "text/x-python",
   "name": "python",
   "nbconvert_exporter": "python",
   "pygments_lexer": "ipython2",
   "version": "2.7.6"
  }
 },
 "nbformat": 4,
 "nbformat_minor": 0
}
