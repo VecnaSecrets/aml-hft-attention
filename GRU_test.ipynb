{
 "cells": [
  {
   "cell_type": "code",
   "execution_count": 3,
   "metadata": {},
   "outputs": [],
   "source": [
    "import torch as t\n",
    "import pandas as pd\n",
    "import numpy as np\n",
    "from tqdm import tqdm\n",
    "\n",
    "from torch.nn import GRU\n",
    "from src.preprocess import *\n",
    "from src.models import *\n",
    "from src.utils import *\n",
    "\n",
    "from torch.utils.tensorboard import SummaryWriter\n",
    "\n",
    "import warnings\n",
    "warnings.simplefilter('ignore')\n"
   ]
  },
  {
   "cell_type": "code",
   "execution_count": 4,
   "metadata": {},
   "outputs": [],
   "source": [
    "# setting up\n",
    "DEVICE = 'cuda' if t.cuda.is_available() else 'cpu'\n",
    "DEVICE = 'mps' if t.backends.mps.is_available() else DEVICE\n",
    "DATASET_PATH = './dataset/result.csv'\n",
    "LOOK_FWD = 700\n",
    "W_SIZE = 50\n",
    "THR = 0.000001\n",
    "TRAIN_TEST_R = 0.8\n",
    "TRAIN_VAL_R = 0.8\n",
    "HIDDEN = 60\n",
    "N_LAYERS = 5\n",
    "BATCH_SIZE = 1024"
   ]
  },
  {
   "cell_type": "code",
   "execution_count": 5,
   "metadata": {},
   "outputs": [
    {
     "name": "stdout",
     "output_type": "stream",
     "text": [
      "Dataset already extracted\n"
     ]
    },
    {
     "data": {
      "text/plain": [
       "(100000, 79)"
      ]
     },
     "execution_count": 5,
     "metadata": {},
     "output_type": "execute_result"
    }
   ],
   "source": [
    "unzip_dataset('./dataset/')\n",
    "dataset = pd.read_csv(DATASET_PATH, index_col=0)[:100000]\n",
    "dataset.shape"
   ]
  },
  {
   "cell_type": "code",
   "execution_count": 6,
   "metadata": {},
   "outputs": [
    {
     "name": "stderr",
     "output_type": "stream",
     "text": [
      "100%|██████████| 99300/99300 [00:04<00:00, 23519.77it/s]\n"
     ]
    }
   ],
   "source": [
    "labels = generate_labels(dataset, LOOK_FWD, THR)[LOOK_FWD:]"
   ]
  },
  {
   "cell_type": "code",
   "execution_count": 7,
   "metadata": {},
   "outputs": [
    {
     "data": {
      "image/png": "[encoded data removed]",
      "text/plain": [
       "<Figure size 640x480 with 1 Axes>"
      ]
     },
     "metadata": {},
     "output_type": "display_data"
    }
   ],
   "source": [
    "import matplotlib.pyplot as plt\n",
    "plt.hist(labels)\n",
    "plt.show()"
   ]
  },
  {
   "cell_type": "code",
   "execution_count": 8,
   "metadata": {},
   "outputs": [
    {
     "data": {
      "text/plain": [
       "(98600,)"
      ]
     },
     "execution_count": 8,
     "metadata": {},
     "output_type": "execute_result"
    }
   ],
   "source": [
    "labels.shape"
   ]
  },
  {
   "cell_type": "code",
   "execution_count": 9,
   "metadata": {},
   "outputs": [],
   "source": [
    "pipe = Pipe(W_SIZE)\n",
    "\n",
    "train_index = int((dataset.shape[0] - LOOK_FWD * 2 - W_SIZE) * TRAIN_TEST_R)\n",
    "test_index_start = train_index + W_SIZE\n",
    "ds_train = dataset[:train_index]\n",
    "ds_test = dataset[test_index_start: - LOOK_FWD * 2]\n",
    "\n",
    "dataset = None\n",
    "\n",
    "pipe.fit(ds_train)\n",
    "\n",
    "train_t = pipe.transform(ds_train)\n",
    "test_t = pipe.transform(ds_test)\n",
    "\n",
    "train_l_t = t.tensor(labels[:train_t.shape[0]])\n",
    "test_l_t = t.tensor(labels[test_index_start:test_index_start + test_t.shape[0]])\n",
    "\n",
    "train_val_idx = int(train_l_t.shape[0] * TRAIN_VAL_R)\n",
    "\n",
    "train_ds = t.utils.data.TensorDataset(train_t[:train_val_idx], train_l_t[:train_val_idx])\n",
    "val_ds = t.utils.data.TensorDataset(train_t[train_val_idx:], train_l_t[train_val_idx:])\n",
    "test_ds = t.utils.data.TensorDataset(test_t, test_l_t)\n",
    "\n",
    "train_dl = t.utils.data.DataLoader(train_ds, batch_size=BATCH_SIZE)\n",
    "val_dl = t.utils.data.DataLoader(val_ds, batch_size=BATCH_SIZE)\n",
    "test_dl = t.utils.data.DataLoader(test_ds, batch_size=BATCH_SIZE)"
   ]
  },
  {
   "cell_type": "code",
   "execution_count": 21,
   "metadata": {},
   "outputs": [],
   "source": []
  },
  {
   "cell_type": "code",
   "execution_count": 23,
   "metadata": {},
   "outputs": [
    {
     "data": {
      "text/plain": [
       "torch.Size([5, 3])"
      ]
     },
     "execution_count": 23,
     "metadata": {},
     "output_type": "execute_result"
    }
   ],
   "source": [
    "model = Att_GRU(train_t.shape[2], 5, 20, W_SIZE, DEVICE).to(device=DEVICE)\n",
    "model(train_t[500:505].to(device=DEVICE)).shape"
   ]
  },
  {
   "cell_type": "code",
   "execution_count": 25,
   "metadata": {},
   "outputs": [],
   "source": [
    "import torchmetrics as tm\n",
    "\n",
    "class GetMetrics:\n",
    "    def __init__(self, params = {\n",
    "        'task' : 'multiclass', \n",
    "        'num_classes' : 3, \n",
    "        'average' : 'weighted'\n",
    "    }):\n",
    "        self.estimators = {\n",
    "            'accuracy' : tm.Accuracy(**params),\n",
    "            'precision' : tm.Precision(**params),\n",
    "            'recall' : tm.Recall(**params)\n",
    "        }\n",
    "    \n",
    "    def __call__(self, preds, labels, metrics = ['accuracy', 'precision', 'recall']):\n",
    "        out = {}\n",
    "        for n in metrics:\n",
    "            if n in self.estimators.keys():\n",
    "                out[n] = self.estimators[n] ( preds, labels)\n",
    "            else: print(\"No {} metric found\".format(n))\n",
    "            \n",
    "        return out\n",
    "\n",
    "\n",
    "def train(train_loader, val_loader, model, optimizer, lf, epochs=10, device='cpu', sm=None):\n",
    "    metrics = GetMetrics()\n",
    "\n",
    "    \n",
    "    bar = tqdm(range(epochs))\n",
    "    epoch_loss = -1.0\n",
    "    eval_loss = {\n",
    "        'loss' : -1.0,\n",
    "        'accuracy' : -1.0,\n",
    "        'precision' : -1.0,\n",
    "        'recall' : -1.0,\n",
    "    }\n",
    "    accuracy = -1.0\n",
    "    precision = -1.0\n",
    "    recall = -1.0\n",
    "    for epoch in bar:\n",
    "        l = 0\n",
    "        acc = 0\n",
    "        pre = 0\n",
    "        rec = 0\n",
    "        batch_count = 0\n",
    "        for X, y in train_loader:\n",
    "            batch_count += 1\n",
    "            \n",
    "            optimizer.zero_grad()\n",
    "            X = X.to(device=device)\n",
    "            out = model(X).to(device='cpu')\n",
    "            loss = lf(out, y)\n",
    "            loss.backward()\n",
    "            optimizer.step()\n",
    "            \n",
    "            l += loss\n",
    "            m = metrics(out, y)\n",
    "            acc += m['accuracy']\n",
    "            pre += m['precision']\n",
    "            rec += m['recall']\n",
    "\n",
    "            bar.set_description(\"train_loss: {:.3f}, train_acc_pre_rec: {:.3f}, {:.3f}, {:.3f}; || eval_loss: {:.3f}, eval_acc_pre_rec {:.3f}, {:.3f}, {:.3f}; || local_loss: {:.3f}\"\\\n",
    "                                .format(epoch_loss, accuracy, precision, recall,\\\n",
    "                                        eval_loss['loss'], eval_loss['accuracy'], eval_loss['precision'], eval_loss['recall'],\\\n",
    "                                        loss))\n",
    "\n",
    "        epoch_loss = l / batch_count\n",
    "        accuracy = acc / batch_count\n",
    "        precision = pre / batch_count\n",
    "        recall = rec / batch_count\n",
    "        eval_loss = eval(val_loader, model, lf, device)\n",
    "\n",
    "        if sm is not None:\n",
    "            sm.add_scalar('Accuracy/train', accuracy, epoch)\n",
    "            sm.add_scalar('Precision/train', precision, epoch)\n",
    "            sm.add_scalar('Recall/train', recall, epoch)\n",
    "            sm.add_scalar('Loss/train', epoch_loss, epoch)\n",
    "\n",
    "            sm.add_scalar('Accuracy/val', eval_loss['accuracy'], epoch)\n",
    "            sm.add_scalar('Precision/val', eval_loss['precision'], epoch)\n",
    "            sm.add_scalar('Recall/val', eval_loss['recall'], epoch)\n",
    "            sm.add_scalar('Loss/val', eval_loss['loss'], epoch)\n",
    "\n",
    "def eval(val_loader, model, lf, device='cpu', metrics = None):\n",
    "    if metrics is None:\n",
    "        metrics = GetMetrics()\n",
    "    acc = 0\n",
    "    pre = 0\n",
    "    rec = 0\n",
    "    with t.no_grad():\n",
    "        loss = 0\n",
    "        batch_counter = 0\n",
    "        for X, y in val_loader:\n",
    "            batch_counter += 1\n",
    "            l = 0\n",
    "            out = model(X.to(device=device)).to(device='cpu')\n",
    "            loss += lf(out, y)\n",
    "\n",
    "            m = metrics(out, y)\n",
    "            acc += m['accuracy']\n",
    "            pre += m['precision']\n",
    "            rec += m['recall']\n",
    "\n",
    "    return {\n",
    "        'loss' : loss / batch_counter,\n",
    "        'accuracy' : acc / batch_counter,\n",
    "        'precision' : acc / batch_counter,\n",
    "        'recall' : acc / batch_counter,\n",
    "    }\n",
    "\n"
   ]
  },
  {
   "cell_type": "code",
   "execution_count": 26,
   "metadata": {},
   "outputs": [
    {
     "name": "stderr",
     "output_type": "stream",
     "text": [
      "train_loss: 0.969, train_acc_pre_rec: 0.601, 0.515, 0.601; || eval_loss: 1.152, eval_acc_pre_rec 0.335, 0.335, 0.335; || local_loss: 1.201: 100%|██████████| 3/3 [00:06<00:00,  2.27s/it]        "
     ]
    },
    {
     "name": "stdout",
     "output_type": "stream",
     "text": [
      "CPU times: user 34.7 s, sys: 55.5 ms, total: 34.7 s\n",
      "Wall time: 6.83 s\n"
     ]
    },
    {
     "name": "stderr",
     "output_type": "stream",
     "text": [
      "\n"
     ]
    }
   ],
   "source": [
    "%%time\n",
    "model_1 = Att_GRU(test_t.shape[2],\n",
    "                  n_layers=N_LAYERS,\n",
    "                  hidden=HIDDEN,\n",
    "                  device=DEVICE,\n",
    "                  window=W_SIZE).to(device=DEVICE)\n",
    "optimizer = t.optim.Adam(model.parameters())\n",
    "lf = t.nn.CrossEntropyLoss()\n",
    "sm = SummaryWriter('./runs')\n",
    "\n",
    "train(train_dl, val_dl, model, optimizer, lf, 3, device=DEVICE, sm=sm)"
   ]
  },
  {
   "cell_type": "code",
   "execution_count": null,
   "metadata": {},
   "outputs": [
    {
     "data": {
      "text/plain": [
       "torch.Size([3, 10, 6])"
      ]
     },
     "execution_count": 11,
     "metadata": {},
     "output_type": "execute_result"
    }
   ],
   "source": [
    "# params\n",
    "items = 3\n",
    "sequence_len = 10\n",
    "features = 20\n",
    "K = 6\n",
    "n_layers = 2\n",
    "\n",
    "# test tensor\n",
    "test = t.randn((items, sequence_len, features))\n",
    "\n",
    "# init of first hidden state\n",
    "h_0 = t.randn((n_layers, sequence_len, K))\n",
    "gru = GRU(\n",
    "    input_size = features,\n",
    "    hidden_size = K,\n",
    "    num_layers = n_layers,\n",
    "    bidirectional=False\n",
    ")\n",
    "\n",
    "gru(test, h_0)[0].shape"
   ]
  }
 ],
 "metadata": {
  "kernelspec": {
   "display_name": "Python 3 (ipykernel)",
   "language": "python",
   "name": "python3"
  },
  "language_info": {
   "codemirror_mode": {
    "name": "ipython",
    "version": 3
   },
   "file_extension": ".py",
   "mimetype": "text/x-python",
   "name": "python",
   "nbconvert_exporter": "python",
   "pygments_lexer": "ipython3",
   "version": "3.10.10"
  }
 },
 "nbformat": 4,
 "nbformat_minor": 1
}
