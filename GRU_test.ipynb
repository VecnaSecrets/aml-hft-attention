{
 "cells": [
  {
   "cell_type": "code",
   "execution_count": 1,
   "metadata": {},
   "outputs": [],
   "source": [
    "import torch as t\n",
    "import pandas as pd\n",
    "# import numpy as np\n",
    "# from tqdm import tqdm\n",
    "\n",
    "from src.preprocess import *\n",
    "from src.models import *\n",
    "from src.utils import *\n",
    "\n",
    "from torch.utils.tensorboard import SummaryWriter\n",
    "\n",
    "import warnings\n",
    "warnings.simplefilter('ignore')\n"
   ]
  },
  {
   "cell_type": "code",
   "execution_count": 2,
   "metadata": {},
   "outputs": [],
   "source": [
    "# setting up\n",
    "DEVICE = 'cuda' if t.cuda.is_available() else 'cpu'\n",
    "DEVICE = 'mps' if t.backends.mps.is_available() else DEVICE\n",
    "params = {\n",
    "    'DATASET_PATH' : './dataset/result.csv',\n",
    "    'LOOK_FWD' : 700,\n",
    "    'W_SIZE' : 400,\n",
    "    'THR' : 0.000001,\n",
    "    'TRAIN_TEST_R' : 0.8,\n",
    "    'TRAIN_VAL_R' : 0.8,\n",
    "    'HIDDEN' : 40,\n",
    "    'N_LAYERS' : 4,\n",
    "    'BATCH_SIZE' : 256,\n",
    "    'SAMPLES' : 5000000,\n",
    "    'W_STEP' : 2\n",
    "}\n",
    "\n",
    "locals().update(params)"
   ]
  },
  {
   "cell_type": "code",
   "execution_count": 3,
   "metadata": {},
   "outputs": [
    {
     "name": "stdout",
     "output_type": "stream",
     "text": [
      "Dataset already extracted\n",
      "loading the dataset...\n"
     ]
    },
    {
     "data": {
      "text/plain": [
       "(4382993, 79)"
      ]
     },
     "execution_count": 3,
     "metadata": {},
     "output_type": "execute_result"
    }
   ],
   "source": [
    "import pickle\n",
    "\n",
    "unzip_dataset('./dataset/')\n",
    "pckl_name = './dataset/dataset.pckl'\n",
    "if os.path.isfile(pckl_name):\n",
    "    print('loading the dataset...')\n",
    "    with open(pckl_name, 'rb') as f:\n",
    "        dataset_ = pickle.load(f)\n",
    "else: \n",
    "    dataset_ = pd.read_csv(DATASET_PATH, index_col=0)\n",
    "    print('saving the dataset...')\n",
    "    with open(pckl_name, 'wb+') as f:\n",
    "        pickle.dump(dataset, f)\n",
    "\n",
    "dataset = dataset_[:SAMPLES]\n",
    "dataset.shape"
   ]
  },
  {
   "cell_type": "code",
   "execution_count": 4,
   "metadata": {},
   "outputs": [
    {
     "data": {
      "text/plain": [
       "(2190797,)"
      ]
     },
     "execution_count": 4,
     "metadata": {},
     "output_type": "execute_result"
    }
   ],
   "source": [
    "labels_name = './dataset/labels.pckl'\n",
    "if os.path.isfile(labels_name):\n",
    "    with open('./dataset/labels.pckl', 'rb') as f:\n",
    "        labels = pickle.load(f)\n",
    "else:\n",
    "    labels = generate_labels(dataset_, LOOK_FWD, THR)\n",
    "    with open('./dataset/labels.pckl', 'wb+') as f:\n",
    "        pickle.dump(labels, f)\n",
    "        \n",
    "labels = labels[LOOK_FWD:dataset.shape[0]:W_STEP]\n",
    "dataset_ = None\n",
    "labels.shape"
   ]
  },
  {
   "cell_type": "code",
   "execution_count": 5,
   "metadata": {},
   "outputs": [
    {
     "data": {
      "image/png": "[encoded data removed]",
      "text/plain": [
       "<Figure size 640x480 with 1 Axes>"
      ]
     },
     "metadata": {},
     "output_type": "display_data"
    }
   ],
   "source": [
    "import matplotlib.pyplot as plt\n",
    "plt.hist(labels)\n",
    "plt.show()"
   ]
  },
  {
   "cell_type": "code",
   "execution_count": 6,
   "metadata": {},
   "outputs": [
    {
     "data": {
      "text/plain": [
       "(2190797,)"
      ]
     },
     "execution_count": 6,
     "metadata": {},
     "output_type": "execute_result"
    }
   ],
   "source": [
    "labels.shape"
   ]
  },
  {
   "cell_type": "code",
   "execution_count": 7,
   "metadata": {},
   "outputs": [],
   "source": [
    "pipe = Pipe(W_SIZE, window_step=2)\n",
    "\n",
    "train_index = int((dataset.shape[0] - LOOK_FWD * 2 - W_SIZE) * TRAIN_TEST_R)\n",
    "test_index_start = train_index + W_SIZE\n",
    "ds_train = dataset[:train_index]\n",
    "ds_test = dataset[test_index_start: - LOOK_FWD * 2]\n",
    "\n",
    "dataset = None\n",
    "\n",
    "pipe.fit(ds_train)\n",
    "\n",
    "train_t = pipe.transform(ds_train)\n",
    "test_t = pipe.transform(ds_test)\n",
    "\n",
    "train_l_t = t.tensor(labels[:train_t.shape[0]])\n",
    "test_l_t = t.tensor(labels[test_index_start // W_STEP:test_index_start // W_STEP + test_t.shape[0]])\n",
    "\n",
    "# print(train_t.shape, train_l_t.shape)\n",
    "# print(test_t.shape, test_l_t.shape)\n",
    "# print(ds_train.shape, ds_test.shape)\n",
    "# print(test_index_start, train_l_t.shape)\n",
    "\n",
    "train_val_idx = int(train_l_t.shape[0] * TRAIN_VAL_R)\n",
    "\n",
    "\n",
    "\n",
    "train_ds = t.utils.data.TensorDataset(train_t[:train_val_idx], train_l_t[:train_val_idx])\n",
    "val_ds = t.utils.data.TensorDataset(train_t[train_val_idx:], train_l_t[train_val_idx:])\n",
    "test_ds = t.utils.data.TensorDataset(test_t, test_l_t)\n",
    "\n",
    "train_dl = t.utils.data.DataLoader(train_ds, batch_size=BATCH_SIZE, shuffle=True)\n",
    "val_dl = t.utils.data.DataLoader(val_ds, batch_size=BATCH_SIZE, shuffle=True)\n",
    "test_dl = t.utils.data.DataLoader(test_ds, batch_size=BATCH_SIZE, shuffle=True)"
   ]
  },
  {
   "cell_type": "code",
   "execution_count": 8,
   "metadata": {},
   "outputs": [
    {
     "data": {
      "text/plain": [
       "torch.Size([5, 3])"
      ]
     },
     "execution_count": 8,
     "metadata": {},
     "output_type": "execute_result"
    }
   ],
   "source": [
    "model = Att_GRU(train_t.shape[2], 5, 20, W_SIZE, DEVICE).to(device=DEVICE)\n",
    "model(train_t[500:505].to(device=DEVICE)).shape"
   ]
  },
  {
   "cell_type": "code",
   "execution_count": 9,
   "metadata": {},
   "outputs": [
    {
     "name": "stderr",
     "output_type": "stream",
     "text": [
      "train_loss: 0.958, train_acc_pre_rec: 0.566, 0.570, 0.566; || eval_loss: 0.988, eval_acc_pre_rec 0.526, 0.545, 0.526; || local_loss: 0.917:  17%|█▋        | 5/30 [18:15<1:31:09, 218.79s/it]        "
     ]
    },
    {
     "name": "stdout",
     "output_type": "stream",
     "text": [
      "model saved\n"
     ]
    },
    {
     "name": "stderr",
     "output_type": "stream",
     "text": [
      "train_loss: 0.955, train_acc_pre_rec: 0.570, 0.574, 0.570; || eval_loss: 0.985, eval_acc_pre_rec 0.531, 0.545, 0.531; || local_loss: 0.969:  33%|███▎      | 10/30 [36:47<1:14:32, 223.62s/it]"
     ]
    },
    {
     "name": "stdout",
     "output_type": "stream",
     "text": [
      "model saved\n"
     ]
    },
    {
     "name": "stderr",
     "output_type": "stream",
     "text": [
      "train_loss: 0.954, train_acc_pre_rec: 0.572, 0.576, 0.572; || eval_loss: 0.985, eval_acc_pre_rec 0.532, 0.547, 0.532; || local_loss: 0.996:  50%|█████     | 15/30 [55:33<56:16, 225.11s/it]  "
     ]
    },
    {
     "name": "stdout",
     "output_type": "stream",
     "text": [
      "model saved\n"
     ]
    },
    {
     "name": "stderr",
     "output_type": "stream",
     "text": [
      "train_loss: 0.953, train_acc_pre_rec: 0.573, 0.577, 0.573; || eval_loss: 0.985, eval_acc_pre_rec 0.531, 0.539, 0.531; || local_loss: 0.968:  67%|██████▋   | 20/30 [1:14:40<38:32, 231.26s/it]"
     ]
    },
    {
     "name": "stdout",
     "output_type": "stream",
     "text": [
      "model saved\n"
     ]
    },
    {
     "name": "stderr",
     "output_type": "stream",
     "text": [
      "train_loss: 0.952, train_acc_pre_rec: 0.574, 0.578, 0.574; || eval_loss: 0.988, eval_acc_pre_rec 0.527, 0.543, 0.527; || local_loss: 0.952:  70%|███████   | 21/30 [1:18:34<34:47, 231.97s/it]"
     ]
    }
   ],
   "source": [
    "model_1 = Att_GRU(test_t.shape[2],\n",
    "                  n_layers=N_LAYERS,\n",
    "                  hidden=HIDDEN,\n",
    "                  device=DEVICE,\n",
    "                  window=W_SIZE).to(device=DEVICE)\n",
    "optimizer = t.optim.Adam(model.parameters(), lr=5e-4)\n",
    "lf = t.nn.CrossEntropyLoss()\n",
    "sm = SummaryWriter('./runs')\n",
    "\n",
    "train(train_dl, val_dl, model, optimizer, lf, 30, device=DEVICE, sm=sm,\n",
    "      save_on=5, save_params=params)\n",
    "test_results = eval(test_dl, model, lf, DEVICE)\n",
    "print(test_results)"
   ]
  },
  {
   "cell_type": "code",
   "execution_count": null,
   "metadata": {},
   "outputs": [],
   "source": [
    "save_model(model, params, test_results, postfix='final')"
   ]
  }
 ],
 "metadata": {
  "kernelspec": {
   "display_name": "Python 3 (ipykernel)",
   "language": "python",
   "name": "python3"
  },
  "language_info": {
   "codemirror_mode": {
    "name": "ipython",
    "version": 3
   },
   "file_extension": ".py",
   "mimetype": "text/x-python",
   "name": "python",
   "nbconvert_exporter": "python",
   "pygments_lexer": "ipython3",
   "version": "3.10.10"
  }
 },
 "nbformat": 4,
 "nbformat_minor": 1
}
