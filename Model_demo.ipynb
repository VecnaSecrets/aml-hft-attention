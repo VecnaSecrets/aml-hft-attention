{
 "cells": [
  {
   "cell_type": "code",
   "execution_count": 1,
   "metadata": {},
   "outputs": [],
   "source": [
    "import torch as t\n",
    "import pandas as pd\n",
    "# import numpy as np\n",
    "# from tqdm import tqdm\n",
    "\n",
    "from src.preprocess import *\n",
    "from src.models import *\n",
    "from src.utils import *\n",
    "\n",
    "from torch.utils.tensorboard import SummaryWriter\n",
    "\n",
    "import warnings\n",
    "warnings.simplefilter('ignore')\n"
   ]
  },
  {
   "cell_type": "code",
   "execution_count": 2,
   "metadata": {},
   "outputs": [],
   "source": [
    "# setting up\n",
    "DEVICE = 'cuda' if t.cuda.is_available() else 'cpu'\n",
    "DEVICE = 'mps' if t.backends.mps.is_available() else DEVICE\n",
    "params = {\n",
    "    'DATASET_PATH' : './dataset/result.csv',\n",
    "    'LOOK_FWD' : 700,\n",
    "    'W_SIZE' : 400,\n",
    "    'THR' : 0.000001,\n",
    "    'TRAIN_TEST_R' : 0.8,\n",
    "    'TRAIN_VAL_R' : 0.8,\n",
    "    'HIDDEN' : 30,\n",
    "    'N_LAYERS' : 3,\n",
    "    'BATCH_SIZE' : 256,\n",
    "    'SAMPLES' : 5000000,\n",
    "    'W_STEP' : 2\n",
    "}\n",
    "\n",
    "locals().update(params)"
   ]
  },
  {
   "cell_type": "code",
   "execution_count": 3,
   "metadata": {},
   "outputs": [
    {
     "name": "stdout",
     "output_type": "stream",
     "text": [
      "Dataset already extracted\n",
      "loading the dataset...\n"
     ]
    },
    {
     "data": {
      "text/plain": [
       "(4382993, 79)"
      ]
     },
     "execution_count": 3,
     "metadata": {},
     "output_type": "execute_result"
    }
   ],
   "source": [
    "import pickle\n",
    "\n",
    "unzip_dataset('./dataset/')\n",
    "pckl_name = './dataset/dataset.pckl'\n",
    "if os.path.isfile(pckl_name):\n",
    "    print('loading the dataset...')\n",
    "    dataset_ = pd.read_pickle(pckl_name)\n",
    "else: \n",
    "    dataset_ = pd.read_csv(DATASET_PATH, index_col=0)\n",
    "    print('saving the dataset...')\n",
    "    dataset_.to_pickle(pckl_name)\n",
    "\n",
    "dataset = dataset_[:SAMPLES]\n",
    "dataset.shape"
   ]
  },
  {
   "cell_type": "code",
   "execution_count": 4,
   "metadata": {},
   "outputs": [
    {
     "data": {
      "text/plain": [
       "(2190797,)"
      ]
     },
     "execution_count": 4,
     "metadata": {},
     "output_type": "execute_result"
    }
   ],
   "source": [
    "labels_name = './dataset/labels.pckl'\n",
    "if os.path.isfile(labels_name):\n",
    "    with open('./dataset/labels.pckl', 'rb') as f:\n",
    "        labels = pickle.load(f)\n",
    "else:\n",
    "    labels = generate_labels(dataset_, LOOK_FWD, THR)\n",
    "    with open('./dataset/labels.pckl', 'wb+') as f:\n",
    "        pickle.dump(labels, f)\n",
    "        \n",
    "labels = labels[LOOK_FWD:dataset.shape[0]:W_STEP]\n",
    "dataset_ = None\n",
    "labels.shape"
   ]
  },
  {
   "cell_type": "code",
   "execution_count": 5,
   "metadata": {},
   "outputs": [
    {
     "data": {
      "image/png": "[encoded data removed]",
      "text/plain": [
       "<Figure size 640x480 with 1 Axes>"
      ]
     },
     "metadata": {},
     "output_type": "display_data"
    }
   ],
   "source": [
    "import matplotlib.pyplot as plt\n",
    "plt.hist(labels)\n",
    "plt.show()"
   ]
  },
  {
   "cell_type": "code",
   "execution_count": 6,
   "metadata": {},
   "outputs": [
    {
     "data": {
      "text/plain": [
       "(2190797,)"
      ]
     },
     "execution_count": 6,
     "metadata": {},
     "output_type": "execute_result"
    }
   ],
   "source": [
    "labels.shape"
   ]
  },
  {
   "cell_type": "code",
   "execution_count": 7,
   "metadata": {},
   "outputs": [],
   "source": [
    "pipe = Pipe(W_SIZE, window_step=2)\n",
    "\n",
    "train_index = int((dataset.shape[0] - LOOK_FWD * 2 - W_SIZE) * TRAIN_TEST_R)\n",
    "test_index_start = train_index + W_SIZE\n",
    "ds_train = dataset[:train_index]\n",
    "ds_test = dataset[test_index_start: - LOOK_FWD * 2]\n",
    "\n",
    "dataset = None\n",
    "\n",
    "pipe.fit(ds_train)\n",
    "\n",
    "train_t = pipe.transform(ds_train)\n",
    "test_t = pipe.transform(ds_test)\n",
    "\n",
    "train_l_t = t.tensor(labels[:train_t.shape[0]])\n",
    "test_l_t = t.tensor(labels[test_index_start // W_STEP:test_index_start // W_STEP + test_t.shape[0]])\n",
    "\n",
    "train_val_idx = int(train_l_t.shape[0] * TRAIN_VAL_R)\n",
    "\n",
    "train_ds = t.utils.data.TensorDataset(train_t[:train_val_idx], train_l_t[:train_val_idx])\n",
    "val_ds = t.utils.data.TensorDataset(train_t[train_val_idx:], train_l_t[train_val_idx:])\n",
    "test_ds = t.utils.data.TensorDataset(test_t, test_l_t)\n",
    "\n",
    "train_dl = t.utils.data.DataLoader(train_ds, batch_size=BATCH_SIZE, shuffle=True)\n",
    "val_dl = t.utils.data.DataLoader(val_ds, batch_size=BATCH_SIZE, shuffle=True)\n",
    "test_dl = t.utils.data.DataLoader(test_ds, batch_size=BATCH_SIZE, shuffle=True)"
   ]
  },
  {
   "cell_type": "code",
   "execution_count": 9,
   "metadata": {},
   "outputs": [],
   "source": [
    "t.save(test_ds, './dataset/test_tensors.t')"
   ]
  },
  {
   "cell_type": "code",
   "execution_count": 10,
   "metadata": {},
   "outputs": [
    {
     "name": "stderr",
     "output_type": "stream",
     "text": [
      "train_loss: 0.936, train_acc_pre_rec: 0.595, 0.600, 0.595; || eval_loss: 0.985, eval_acc_pre_rec 0.539, 0.549, 0.539; || local_loss: 0.890:  17%|█▋        | 5/30 [16:15<1:21:26, 195.44s/it]        "
     ]
    },
    {
     "name": "stdout",
     "output_type": "stream",
     "text": [
      "model saved\n"
     ]
    },
    {
     "name": "stderr",
     "output_type": "stream",
     "text": [
      "train_loss: 0.934, train_acc_pre_rec: 0.598, 0.602, 0.598; || eval_loss: 0.986, eval_acc_pre_rec 0.536, 0.550, 0.536; || local_loss: 0.927:  33%|███▎      | 10/30 [32:36<1:05:41, 197.06s/it]"
     ]
    },
    {
     "name": "stdout",
     "output_type": "stream",
     "text": [
      "model saved\n"
     ]
    },
    {
     "name": "stderr",
     "output_type": "stream",
     "text": [
      "train_loss: 0.934, train_acc_pre_rec: 0.599, 0.603, 0.599; || eval_loss: 0.988, eval_acc_pre_rec 0.535, 0.551, 0.535; || local_loss: 0.918:  43%|████▎     | 13/30 [43:12<56:30, 199.41s/it]  \n"
     ]
    },
    {
     "ename": "KeyboardInterrupt",
     "evalue": "",
     "output_type": "error",
     "traceback": [
      "\u001b[0;31m---------------------------------------------------------------------------\u001b[0m",
      "\u001b[0;31mKeyboardInterrupt\u001b[0m                         Traceback (most recent call last)",
      "Cell \u001b[0;32mIn[10], line 14\u001b[0m\n\u001b[1;32m     11\u001b[0m lf \u001b[39m=\u001b[39m t\u001b[39m.\u001b[39mnn\u001b[39m.\u001b[39mCrossEntropyLoss()\n\u001b[1;32m     12\u001b[0m sm \u001b[39m=\u001b[39m SummaryWriter(\u001b[39m'\u001b[39m\u001b[39m./runs\u001b[39m\u001b[39m'\u001b[39m)\n\u001b[0;32m---> 14\u001b[0m train(train_dl, val_dl, model, optimizer, lf, \u001b[39m30\u001b[39;49m, device\u001b[39m=\u001b[39;49mDEVICE, sm\u001b[39m=\u001b[39;49msm,\n\u001b[1;32m     15\u001b[0m       save_on\u001b[39m=\u001b[39;49m\u001b[39m5\u001b[39;49m, save_params\u001b[39m=\u001b[39;49mparams)\n\u001b[1;32m     16\u001b[0m test_results \u001b[39m=\u001b[39m \u001b[39meval\u001b[39m(test_dl, model, lf, DEVICE)\n\u001b[1;32m     17\u001b[0m \u001b[39mprint\u001b[39m(test_results)\n",
      "File \u001b[0;32m~/Desktop/Inno_/ML/aml-hft-attention/src/utils.py:67\u001b[0m, in \u001b[0;36mtrain\u001b[0;34m(train_loader, val_loader, model, optimizer, lf, epochs, device, sm, verbose, save_on, save_params)\u001b[0m\n\u001b[1;32m     65\u001b[0m out \u001b[39m=\u001b[39m model(X)\u001b[39m.\u001b[39mto(device\u001b[39m=\u001b[39m\u001b[39m'\u001b[39m\u001b[39mcpu\u001b[39m\u001b[39m'\u001b[39m)\n\u001b[1;32m     66\u001b[0m loss \u001b[39m=\u001b[39m lf(out, y)\n\u001b[0;32m---> 67\u001b[0m loss\u001b[39m.\u001b[39;49mbackward()\n\u001b[1;32m     68\u001b[0m optimizer\u001b[39m.\u001b[39mstep()\n\u001b[1;32m     70\u001b[0m l \u001b[39m+\u001b[39m\u001b[39m=\u001b[39m loss\n",
      "File \u001b[0;32m/media/thornail/LinuxOther/anaconda3/envs/ML2/lib/python3.10/site-packages/torch/_tensor.py:487\u001b[0m, in \u001b[0;36mTensor.backward\u001b[0;34m(self, gradient, retain_graph, create_graph, inputs)\u001b[0m\n\u001b[1;32m    477\u001b[0m \u001b[39mif\u001b[39;00m has_torch_function_unary(\u001b[39mself\u001b[39m):\n\u001b[1;32m    478\u001b[0m     \u001b[39mreturn\u001b[39;00m handle_torch_function(\n\u001b[1;32m    479\u001b[0m         Tensor\u001b[39m.\u001b[39mbackward,\n\u001b[1;32m    480\u001b[0m         (\u001b[39mself\u001b[39m,),\n\u001b[0;32m   (...)\u001b[0m\n\u001b[1;32m    485\u001b[0m         inputs\u001b[39m=\u001b[39minputs,\n\u001b[1;32m    486\u001b[0m     )\n\u001b[0;32m--> 487\u001b[0m torch\u001b[39m.\u001b[39;49mautograd\u001b[39m.\u001b[39;49mbackward(\n\u001b[1;32m    488\u001b[0m     \u001b[39mself\u001b[39;49m, gradient, retain_graph, create_graph, inputs\u001b[39m=\u001b[39;49minputs\n\u001b[1;32m    489\u001b[0m )\n",
      "File \u001b[0;32m/media/thornail/LinuxOther/anaconda3/envs/ML2/lib/python3.10/site-packages/torch/autograd/__init__.py:200\u001b[0m, in \u001b[0;36mbackward\u001b[0;34m(tensors, grad_tensors, retain_graph, create_graph, grad_variables, inputs)\u001b[0m\n\u001b[1;32m    195\u001b[0m     retain_graph \u001b[39m=\u001b[39m create_graph\n\u001b[1;32m    197\u001b[0m \u001b[39m# The reason we repeat same the comment below is that\u001b[39;00m\n\u001b[1;32m    198\u001b[0m \u001b[39m# some Python versions print out the first line of a multi-line function\u001b[39;00m\n\u001b[1;32m    199\u001b[0m \u001b[39m# calls in the traceback and some print out the last line\u001b[39;00m\n\u001b[0;32m--> 200\u001b[0m Variable\u001b[39m.\u001b[39;49m_execution_engine\u001b[39m.\u001b[39;49mrun_backward(  \u001b[39m# Calls into the C++ engine to run the backward pass\u001b[39;49;00m\n\u001b[1;32m    201\u001b[0m     tensors, grad_tensors_, retain_graph, create_graph, inputs,\n\u001b[1;32m    202\u001b[0m     allow_unreachable\u001b[39m=\u001b[39;49m\u001b[39mTrue\u001b[39;49;00m, accumulate_grad\u001b[39m=\u001b[39;49m\u001b[39mTrue\u001b[39;49;00m)\n",
      "\u001b[0;31mKeyboardInterrupt\u001b[0m: "
     ]
    }
   ],
   "source": [
    "model = Att_GRU(test_t.shape[2],\n",
    "                  n_layers=N_LAYERS,\n",
    "                  hidden=HIDDEN,\n",
    "                  device=DEVICE,\n",
    "                  window=W_SIZE).to(device=DEVICE)\n",
    "\n",
    "# with open('./models/model_2023-05-01 14:20:37_final', 'rb') as f:\n",
    "#       model = t.load(f)['model']\n",
    "\n",
    "optimizer = t.optim.Adam(model.parameters(), lr=5e-4)\n",
    "lf = t.nn.CrossEntropyLoss()\n",
    "sm = SummaryWriter('./runs')\n",
    "\n",
    "train(train_dl, val_dl, model, optimizer, lf, 30, device=DEVICE, sm=sm,\n",
    "      save_on=5, save_params=params)\n",
    "test_results = eval(test_dl, model, lf, DEVICE)\n",
    "print(test_results)"
   ]
  },
  {
   "cell_type": "code",
   "execution_count": null,
   "metadata": {},
   "outputs": [],
   "source": [
    "save_model(model, params, test_results, pipe, postfix='final')"
   ]
  }
 ],
 "metadata": {
  "kernelspec": {
   "display_name": "Python 3 (ipykernel)",
   "language": "python",
   "name": "python3"
  },
  "language_info": {
   "codemirror_mode": {
    "name": "ipython",
    "version": 3
   },
   "file_extension": ".py",
   "mimetype": "text/x-python",
   "name": "python",
   "nbconvert_exporter": "python",
   "pygments_lexer": "ipython3",
   "version": "3.10.10"
  }
 },
 "nbformat": 4,
 "nbformat_minor": 1
}
